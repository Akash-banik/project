{
    "cells": [
        {
            "cell_type": "code",
            "execution_count": 1,
            "id": "329dc6a3",
            "metadata": {},
            "outputs": [],
            "source": "import numpy as np\nimport pandas as pd\nimport statsmodels.formula.api as smf\nimport statsmodels.stats.api as sms\nimport statsmodels.api as sm\nfrom statsmodels.compat import lzip"
        },
        {
            "cell_type": "code",
            "execution_count": 2,
            "id": "eb086d8f",
            "metadata": {},
            "outputs": [],
            "source": "data = pd.read_excel('raw data final.xlsx')"
        },
        {
            "cell_type": "code",
            "execution_count": 3,
            "id": "cb0157c8",
            "metadata": {},
            "outputs": [
                {
                    "data": {
                        "text/html": "<div>\n<style scoped>\n    .dataframe tbody tr th:only-of-type {\n        vertical-align: middle;\n    }\n\n    .dataframe tbody tr th {\n        vertical-align: top;\n    }\n\n    .dataframe thead th {\n        text-align: right;\n    }\n</style>\n<table border=\"1\" class=\"dataframe\">\n  <thead>\n    <tr style=\"text-align: right;\">\n      <th></th>\n      <th>Date</th>\n      <th>BANK</th>\n      <th>ChangeBANK</th>\n      <th>IT</th>\n      <th>ChangeIT</th>\n      <th>YIELD</th>\n      <th>ChangeYIELD</th>\n      <th>YIELD1</th>\n      <th>ChangeYIELD1</th>\n    </tr>\n  </thead>\n  <tbody>\n    <tr>\n      <th>0</th>\n      <td>2010-01-01</td>\n      <td>8651.55</td>\n      <td>-0.0419</td>\n      <td>5594.15</td>\n      <td>-0.0385</td>\n      <td>7.154</td>\n      <td>-0.0154</td>\n      <td>8.278</td>\n      <td>0.0385</td>\n    </tr>\n    <tr>\n      <th>1</th>\n      <td>2010-02-01</td>\n      <td>8722.75</td>\n      <td>0.0082</td>\n      <td>5766.70</td>\n      <td>0.0308</td>\n      <td>7.343</td>\n      <td>0.0264</td>\n      <td>8.384</td>\n      <td>0.0128</td>\n    </tr>\n    <tr>\n      <th>2</th>\n      <td>2010-03-01</td>\n      <td>9459.60</td>\n      <td>0.0845</td>\n      <td>5855.95</td>\n      <td>0.0155</td>\n      <td>7.306</td>\n      <td>-0.0050</td>\n      <td>8.288</td>\n      <td>-0.0115</td>\n    </tr>\n    <tr>\n      <th>3</th>\n      <td>2010-04-01</td>\n      <td>9870.35</td>\n      <td>0.0434</td>\n      <td>5985.80</td>\n      <td>0.0222</td>\n      <td>7.433</td>\n      <td>0.0174</td>\n      <td>8.417</td>\n      <td>0.0156</td>\n    </tr>\n    <tr>\n      <th>4</th>\n      <td>2010-05-01</td>\n      <td>9363.70</td>\n      <td>-0.0513</td>\n      <td>5761.95</td>\n      <td>-0.0374</td>\n      <td>7.413</td>\n      <td>-0.0027</td>\n      <td>8.160</td>\n      <td>-0.0305</td>\n    </tr>\n    <tr>\n      <th>...</th>\n      <td>...</td>\n      <td>...</td>\n      <td>...</td>\n      <td>...</td>\n      <td>...</td>\n      <td>...</td>\n      <td>...</td>\n      <td>...</td>\n      <td>...</td>\n    </tr>\n    <tr>\n      <th>115</th>\n      <td>2019-08-01</td>\n      <td>27427.85</td>\n      <td>-0.0502</td>\n      <td>16010.40</td>\n      <td>0.0250</td>\n      <td>6.366</td>\n      <td>0.0103</td>\n      <td>6.918</td>\n      <td>0.0124</td>\n    </tr>\n    <tr>\n      <th>116</th>\n      <td>2019-09-01</td>\n      <td>29103.15</td>\n      <td>0.0611</td>\n      <td>15540.15</td>\n      <td>-0.0294</td>\n      <td>6.470</td>\n      <td>0.0163</td>\n      <td>7.075</td>\n      <td>0.0227</td>\n    </tr>\n    <tr>\n      <th>117</th>\n      <td>2019-10-01</td>\n      <td>30066.25</td>\n      <td>0.0331</td>\n      <td>15559.40</td>\n      <td>0.0012</td>\n      <td>6.287</td>\n      <td>-0.0283</td>\n      <td>6.915</td>\n      <td>-0.0226</td>\n    </tr>\n    <tr>\n      <th>118</th>\n      <td>2019-11-01</td>\n      <td>31946.10</td>\n      <td>0.0625</td>\n      <td>14998.05</td>\n      <td>-0.0361</td>\n      <td>6.252</td>\n      <td>-0.0056</td>\n      <td>7.056</td>\n      <td>0.0204</td>\n    </tr>\n    <tr>\n      <th>119</th>\n      <td>2019-12-01</td>\n      <td>32161.65</td>\n      <td>0.0067</td>\n      <td>15652.40</td>\n      <td>0.0436</td>\n      <td>6.477</td>\n      <td>0.0360</td>\n      <td>7.038</td>\n      <td>-0.0026</td>\n    </tr>\n  </tbody>\n</table>\n<p>120 rows \u00d7 9 columns</p>\n</div>",
                        "text/plain": "          Date      BANK  ChangeBANK        IT  ChangeIT  YIELD  ChangeYIELD  \\\n0   2010-01-01   8651.55     -0.0419   5594.15   -0.0385  7.154      -0.0154   \n1   2010-02-01   8722.75      0.0082   5766.70    0.0308  7.343       0.0264   \n2   2010-03-01   9459.60      0.0845   5855.95    0.0155  7.306      -0.0050   \n3   2010-04-01   9870.35      0.0434   5985.80    0.0222  7.433       0.0174   \n4   2010-05-01   9363.70     -0.0513   5761.95   -0.0374  7.413      -0.0027   \n..         ...       ...         ...       ...       ...    ...          ...   \n115 2019-08-01  27427.85     -0.0502  16010.40    0.0250  6.366       0.0103   \n116 2019-09-01  29103.15      0.0611  15540.15   -0.0294  6.470       0.0163   \n117 2019-10-01  30066.25      0.0331  15559.40    0.0012  6.287      -0.0283   \n118 2019-11-01  31946.10      0.0625  14998.05   -0.0361  6.252      -0.0056   \n119 2019-12-01  32161.65      0.0067  15652.40    0.0436  6.477       0.0360   \n\n     YIELD1  ChangeYIELD1  \n0     8.278        0.0385  \n1     8.384        0.0128  \n2     8.288       -0.0115  \n3     8.417        0.0156  \n4     8.160       -0.0305  \n..      ...           ...  \n115   6.918        0.0124  \n116   7.075        0.0227  \n117   6.915       -0.0226  \n118   7.056        0.0204  \n119   7.038       -0.0026  \n\n[120 rows x 9 columns]"
                    },
                    "execution_count": 3,
                    "metadata": {},
                    "output_type": "execute_result"
                }
            ],
            "source": "data"
        },
        {
            "cell_type": "code",
            "execution_count": 5,
            "id": "55f9697d",
            "metadata": {},
            "outputs": [],
            "source": "import datetime as dt\ndata[\"Date\"]=pd.to_datetime(data[\"Date\"])\ndata['Year'] =data[\"Date\"].dt.year\ndata['Month'] =data[\"Date\"].dt.month\ndata['Day'] =data[\"Date\"].dt.day\ndata['Date'] = [dt.date() for dt in data['Date']]"
        },
        {
            "cell_type": "code",
            "execution_count": 6,
            "id": "f19ac1e8",
            "metadata": {},
            "outputs": [
                {
                    "data": {
                        "text/html": "<div>\n<style scoped>\n    .dataframe tbody tr th:only-of-type {\n        vertical-align: middle;\n    }\n\n    .dataframe tbody tr th {\n        vertical-align: top;\n    }\n\n    .dataframe thead th {\n        text-align: right;\n    }\n</style>\n<table border=\"1\" class=\"dataframe\">\n  <thead>\n    <tr style=\"text-align: right;\">\n      <th></th>\n      <th>Date</th>\n      <th>BANK</th>\n      <th>ChangeBANK</th>\n      <th>IT</th>\n      <th>ChangeIT</th>\n      <th>YIELD</th>\n      <th>ChangeYIELD</th>\n      <th>YIELD1</th>\n      <th>ChangeYIELD1</th>\n      <th>Year</th>\n      <th>Month</th>\n      <th>Day</th>\n    </tr>\n  </thead>\n  <tbody>\n    <tr>\n      <th>0</th>\n      <td>2010-01-01</td>\n      <td>8651.55</td>\n      <td>-0.0419</td>\n      <td>5594.15</td>\n      <td>-0.0385</td>\n      <td>7.154</td>\n      <td>-0.0154</td>\n      <td>8.278</td>\n      <td>0.0385</td>\n      <td>2010</td>\n      <td>1</td>\n      <td>1</td>\n    </tr>\n    <tr>\n      <th>1</th>\n      <td>2010-02-01</td>\n      <td>8722.75</td>\n      <td>0.0082</td>\n      <td>5766.70</td>\n      <td>0.0308</td>\n      <td>7.343</td>\n      <td>0.0264</td>\n      <td>8.384</td>\n      <td>0.0128</td>\n      <td>2010</td>\n      <td>2</td>\n      <td>1</td>\n    </tr>\n    <tr>\n      <th>2</th>\n      <td>2010-03-01</td>\n      <td>9459.60</td>\n      <td>0.0845</td>\n      <td>5855.95</td>\n      <td>0.0155</td>\n      <td>7.306</td>\n      <td>-0.0050</td>\n      <td>8.288</td>\n      <td>-0.0115</td>\n      <td>2010</td>\n      <td>3</td>\n      <td>1</td>\n    </tr>\n    <tr>\n      <th>3</th>\n      <td>2010-04-01</td>\n      <td>9870.35</td>\n      <td>0.0434</td>\n      <td>5985.80</td>\n      <td>0.0222</td>\n      <td>7.433</td>\n      <td>0.0174</td>\n      <td>8.417</td>\n      <td>0.0156</td>\n      <td>2010</td>\n      <td>4</td>\n      <td>1</td>\n    </tr>\n    <tr>\n      <th>4</th>\n      <td>2010-05-01</td>\n      <td>9363.70</td>\n      <td>-0.0513</td>\n      <td>5761.95</td>\n      <td>-0.0374</td>\n      <td>7.413</td>\n      <td>-0.0027</td>\n      <td>8.160</td>\n      <td>-0.0305</td>\n      <td>2010</td>\n      <td>5</td>\n      <td>1</td>\n    </tr>\n    <tr>\n      <th>...</th>\n      <td>...</td>\n      <td>...</td>\n      <td>...</td>\n      <td>...</td>\n      <td>...</td>\n      <td>...</td>\n      <td>...</td>\n      <td>...</td>\n      <td>...</td>\n      <td>...</td>\n      <td>...</td>\n      <td>...</td>\n    </tr>\n    <tr>\n      <th>115</th>\n      <td>2019-08-01</td>\n      <td>27427.85</td>\n      <td>-0.0502</td>\n      <td>16010.40</td>\n      <td>0.0250</td>\n      <td>6.366</td>\n      <td>0.0103</td>\n      <td>6.918</td>\n      <td>0.0124</td>\n      <td>2019</td>\n      <td>8</td>\n      <td>1</td>\n    </tr>\n    <tr>\n      <th>116</th>\n      <td>2019-09-01</td>\n      <td>29103.15</td>\n      <td>0.0611</td>\n      <td>15540.15</td>\n      <td>-0.0294</td>\n      <td>6.470</td>\n      <td>0.0163</td>\n      <td>7.075</td>\n      <td>0.0227</td>\n      <td>2019</td>\n      <td>9</td>\n      <td>1</td>\n    </tr>\n    <tr>\n      <th>117</th>\n      <td>2019-10-01</td>\n      <td>30066.25</td>\n      <td>0.0331</td>\n      <td>15559.40</td>\n      <td>0.0012</td>\n      <td>6.287</td>\n      <td>-0.0283</td>\n      <td>6.915</td>\n      <td>-0.0226</td>\n      <td>2019</td>\n      <td>10</td>\n      <td>1</td>\n    </tr>\n    <tr>\n      <th>118</th>\n      <td>2019-11-01</td>\n      <td>31946.10</td>\n      <td>0.0625</td>\n      <td>14998.05</td>\n      <td>-0.0361</td>\n      <td>6.252</td>\n      <td>-0.0056</td>\n      <td>7.056</td>\n      <td>0.0204</td>\n      <td>2019</td>\n      <td>11</td>\n      <td>1</td>\n    </tr>\n    <tr>\n      <th>119</th>\n      <td>2019-12-01</td>\n      <td>32161.65</td>\n      <td>0.0067</td>\n      <td>15652.40</td>\n      <td>0.0436</td>\n      <td>6.477</td>\n      <td>0.0360</td>\n      <td>7.038</td>\n      <td>-0.0026</td>\n      <td>2019</td>\n      <td>12</td>\n      <td>1</td>\n    </tr>\n  </tbody>\n</table>\n<p>120 rows \u00d7 12 columns</p>\n</div>",
                        "text/plain": "           Date      BANK  ChangeBANK        IT  ChangeIT  YIELD  ChangeYIELD  \\\n0    2010-01-01   8651.55     -0.0419   5594.15   -0.0385  7.154      -0.0154   \n1    2010-02-01   8722.75      0.0082   5766.70    0.0308  7.343       0.0264   \n2    2010-03-01   9459.60      0.0845   5855.95    0.0155  7.306      -0.0050   \n3    2010-04-01   9870.35      0.0434   5985.80    0.0222  7.433       0.0174   \n4    2010-05-01   9363.70     -0.0513   5761.95   -0.0374  7.413      -0.0027   \n..          ...       ...         ...       ...       ...    ...          ...   \n115  2019-08-01  27427.85     -0.0502  16010.40    0.0250  6.366       0.0103   \n116  2019-09-01  29103.15      0.0611  15540.15   -0.0294  6.470       0.0163   \n117  2019-10-01  30066.25      0.0331  15559.40    0.0012  6.287      -0.0283   \n118  2019-11-01  31946.10      0.0625  14998.05   -0.0361  6.252      -0.0056   \n119  2019-12-01  32161.65      0.0067  15652.40    0.0436  6.477       0.0360   \n\n     YIELD1  ChangeYIELD1  Year  Month  Day  \n0     8.278        0.0385  2010      1    1  \n1     8.384        0.0128  2010      2    1  \n2     8.288       -0.0115  2010      3    1  \n3     8.417        0.0156  2010      4    1  \n4     8.160       -0.0305  2010      5    1  \n..      ...           ...   ...    ...  ...  \n115   6.918        0.0124  2019      8    1  \n116   7.075        0.0227  2019      9    1  \n117   6.915       -0.0226  2019     10    1  \n118   7.056        0.0204  2019     11    1  \n119   7.038       -0.0026  2019     12    1  \n\n[120 rows x 12 columns]"
                    },
                    "execution_count": 6,
                    "metadata": {},
                    "output_type": "execute_result"
                }
            ],
            "source": "data"
        },
        {
            "cell_type": "code",
            "execution_count": 8,
            "id": "ab4f3d10",
            "metadata": {},
            "outputs": [],
            "source": "X=data.drop(['Date'], axis = 1)"
        },
        {
            "cell_type": "code",
            "execution_count": 12,
            "id": "6046a1dc",
            "metadata": {},
            "outputs": [
                {
                    "data": {
                        "text/html": "<div>\n<style scoped>\n    .dataframe tbody tr th:only-of-type {\n        vertical-align: middle;\n    }\n\n    .dataframe tbody tr th {\n        vertical-align: top;\n    }\n\n    .dataframe thead th {\n        text-align: right;\n    }\n</style>\n<table border=\"1\" class=\"dataframe\">\n  <thead>\n    <tr style=\"text-align: right;\">\n      <th></th>\n      <th>BANK</th>\n      <th>ChangeBANK</th>\n      <th>IT</th>\n      <th>ChangeIT</th>\n      <th>YIELD</th>\n      <th>ChangeYIELD</th>\n      <th>YIELD1</th>\n      <th>ChangeYIELD1</th>\n      <th>Year</th>\n      <th>Month</th>\n      <th>Day</th>\n    </tr>\n  </thead>\n  <tbody>\n    <tr>\n      <th>0</th>\n      <td>8651.55</td>\n      <td>-0.0419</td>\n      <td>5594.15</td>\n      <td>-0.0385</td>\n      <td>7.154</td>\n      <td>-0.0154</td>\n      <td>8.278</td>\n      <td>0.0385</td>\n      <td>2010</td>\n      <td>1</td>\n      <td>1</td>\n    </tr>\n    <tr>\n      <th>1</th>\n      <td>8722.75</td>\n      <td>0.0082</td>\n      <td>5766.70</td>\n      <td>0.0308</td>\n      <td>7.343</td>\n      <td>0.0264</td>\n      <td>8.384</td>\n      <td>0.0128</td>\n      <td>2010</td>\n      <td>2</td>\n      <td>1</td>\n    </tr>\n    <tr>\n      <th>2</th>\n      <td>9459.60</td>\n      <td>0.0845</td>\n      <td>5855.95</td>\n      <td>0.0155</td>\n      <td>7.306</td>\n      <td>-0.0050</td>\n      <td>8.288</td>\n      <td>-0.0115</td>\n      <td>2010</td>\n      <td>3</td>\n      <td>1</td>\n    </tr>\n    <tr>\n      <th>3</th>\n      <td>9870.35</td>\n      <td>0.0434</td>\n      <td>5985.80</td>\n      <td>0.0222</td>\n      <td>7.433</td>\n      <td>0.0174</td>\n      <td>8.417</td>\n      <td>0.0156</td>\n      <td>2010</td>\n      <td>4</td>\n      <td>1</td>\n    </tr>\n    <tr>\n      <th>4</th>\n      <td>9363.70</td>\n      <td>-0.0513</td>\n      <td>5761.95</td>\n      <td>-0.0374</td>\n      <td>7.413</td>\n      <td>-0.0027</td>\n      <td>8.160</td>\n      <td>-0.0305</td>\n      <td>2010</td>\n      <td>5</td>\n      <td>1</td>\n    </tr>\n    <tr>\n      <th>...</th>\n      <td>...</td>\n      <td>...</td>\n      <td>...</td>\n      <td>...</td>\n      <td>...</td>\n      <td>...</td>\n      <td>...</td>\n      <td>...</td>\n      <td>...</td>\n      <td>...</td>\n      <td>...</td>\n    </tr>\n    <tr>\n      <th>115</th>\n      <td>27427.85</td>\n      <td>-0.0502</td>\n      <td>16010.40</td>\n      <td>0.0250</td>\n      <td>6.366</td>\n      <td>0.0103</td>\n      <td>6.918</td>\n      <td>0.0124</td>\n      <td>2019</td>\n      <td>8</td>\n      <td>1</td>\n    </tr>\n    <tr>\n      <th>116</th>\n      <td>29103.15</td>\n      <td>0.0611</td>\n      <td>15540.15</td>\n      <td>-0.0294</td>\n      <td>6.470</td>\n      <td>0.0163</td>\n      <td>7.075</td>\n      <td>0.0227</td>\n      <td>2019</td>\n      <td>9</td>\n      <td>1</td>\n    </tr>\n    <tr>\n      <th>117</th>\n      <td>30066.25</td>\n      <td>0.0331</td>\n      <td>15559.40</td>\n      <td>0.0012</td>\n      <td>6.287</td>\n      <td>-0.0283</td>\n      <td>6.915</td>\n      <td>-0.0226</td>\n      <td>2019</td>\n      <td>10</td>\n      <td>1</td>\n    </tr>\n    <tr>\n      <th>118</th>\n      <td>31946.10</td>\n      <td>0.0625</td>\n      <td>14998.05</td>\n      <td>-0.0361</td>\n      <td>6.252</td>\n      <td>-0.0056</td>\n      <td>7.056</td>\n      <td>0.0204</td>\n      <td>2019</td>\n      <td>11</td>\n      <td>1</td>\n    </tr>\n    <tr>\n      <th>119</th>\n      <td>32161.65</td>\n      <td>0.0067</td>\n      <td>15652.40</td>\n      <td>0.0436</td>\n      <td>6.477</td>\n      <td>0.0360</td>\n      <td>7.038</td>\n      <td>-0.0026</td>\n      <td>2019</td>\n      <td>12</td>\n      <td>1</td>\n    </tr>\n  </tbody>\n</table>\n<p>120 rows \u00d7 11 columns</p>\n</div>",
                        "text/plain": "         BANK  ChangeBANK        IT  ChangeIT  YIELD  ChangeYIELD  YIELD1  \\\n0     8651.55     -0.0419   5594.15   -0.0385  7.154      -0.0154   8.278   \n1     8722.75      0.0082   5766.70    0.0308  7.343       0.0264   8.384   \n2     9459.60      0.0845   5855.95    0.0155  7.306      -0.0050   8.288   \n3     9870.35      0.0434   5985.80    0.0222  7.433       0.0174   8.417   \n4     9363.70     -0.0513   5761.95   -0.0374  7.413      -0.0027   8.160   \n..        ...         ...       ...       ...    ...          ...     ...   \n115  27427.85     -0.0502  16010.40    0.0250  6.366       0.0103   6.918   \n116  29103.15      0.0611  15540.15   -0.0294  6.470       0.0163   7.075   \n117  30066.25      0.0331  15559.40    0.0012  6.287      -0.0283   6.915   \n118  31946.10      0.0625  14998.05   -0.0361  6.252      -0.0056   7.056   \n119  32161.65      0.0067  15652.40    0.0436  6.477       0.0360   7.038   \n\n     ChangeYIELD1  Year  Month  Day  \n0          0.0385  2010      1    1  \n1          0.0128  2010      2    1  \n2         -0.0115  2010      3    1  \n3          0.0156  2010      4    1  \n4         -0.0305  2010      5    1  \n..            ...   ...    ...  ...  \n115        0.0124  2019      8    1  \n116        0.0227  2019      9    1  \n117       -0.0226  2019     10    1  \n118        0.0204  2019     11    1  \n119       -0.0026  2019     12    1  \n\n[120 rows x 11 columns]"
                    },
                    "execution_count": 12,
                    "metadata": {},
                    "output_type": "execute_result"
                }
            ],
            "source": "X"
        },
        {
            "cell_type": "code",
            "execution_count": 14,
            "id": "929de267",
            "metadata": {},
            "outputs": [],
            "source": "train = ['ChangeYIELD1']\npredict = ['ChangeBANK']\nX_ = X[train]\ny_=X[predict]"
        },
        {
            "cell_type": "code",
            "execution_count": 15,
            "id": "9367936b",
            "metadata": {},
            "outputs": [],
            "source": "x = sm.add_constant(X_)\npred = sm.OLS(y_,x).fit()"
        },
        {
            "cell_type": "code",
            "execution_count": 16,
            "id": "d2ec629d",
            "metadata": {},
            "outputs": [
                {
                    "name": "stdout",
                    "output_type": "stream",
                    "text": "                            OLS Regression Results                            \n==============================================================================\nDep. Variable:             ChangeBANK   R-squared:                       0.106\nModel:                            OLS   Adj. R-squared:                  0.098\nMethod:                 Least Squares   F-statistic:                     13.92\nDate:                Sun, 15 May 2022   Prob (F-statistic):           0.000295\nTime:                        15:57:18   Log-Likelihood:                 157.55\nNo. Observations:                 120   AIC:                            -311.1\nDf Residuals:                     118   BIC:                            -305.5\nDf Model:                           1                                         \nCovariance Type:            nonrobust                                         \n================================================================================\n                   coef    std err          t      P>|t|      [0.025      0.975]\n--------------------------------------------------------------------------------\nconst            0.0123      0.006      2.059      0.042       0.000       0.024\nChangeYIELD1    -0.8630      0.231     -3.731      0.000      -1.321      -0.405\n==============================================================================\nOmnibus:                        1.774   Durbin-Watson:                   1.993\nProb(Omnibus):                  0.412   Jarque-Bera (JB):                1.264\nSkew:                           0.188   Prob(JB):                        0.532\nKurtosis:                       3.334   Cond. No.                         38.6\n==============================================================================\n\nNotes:\n[1] Standard Errors assume that the covariance matrix of the errors is correctly specified.\n"
                }
            ],
            "source": "print(pred.summary())"
        },
        {
            "cell_type": "code",
            "execution_count": 17,
            "id": "596ea254",
            "metadata": {},
            "outputs": [],
            "source": "train = ['ChangeYIELD']\npredict = ['ChangeIT']\nX_ = X[train]\ny_=X[predict]"
        },
        {
            "cell_type": "code",
            "execution_count": 18,
            "id": "73b52973",
            "metadata": {},
            "outputs": [],
            "source": "x = sm.add_constant(X_)\npred = sm.OLS(y_,x).fit()"
        },
        {
            "cell_type": "code",
            "execution_count": 19,
            "id": "79b9270e",
            "metadata": {},
            "outputs": [
                {
                    "name": "stdout",
                    "output_type": "stream",
                    "text": "                            OLS Regression Results                            \n==============================================================================\nDep. Variable:               ChangeIT   R-squared:                       0.118\nModel:                            OLS   Adj. R-squared:                  0.111\nMethod:                 Least Squares   F-statistic:                     15.83\nDate:                Sun, 15 May 2022   Prob (F-statistic):           0.000120\nTime:                        15:59:04   Log-Likelihood:                 183.18\nNo. Observations:                 120   AIC:                            -362.4\nDf Residuals:                     118   BIC:                            -356.8\nDf Model:                           1                                         \nCovariance Type:            nonrobust                                         \n===============================================================================\n                  coef    std err          t      P>|t|      [0.025      0.975]\n-------------------------------------------------------------------------------\nconst           0.0102      0.005      2.099      0.038       0.001       0.020\nChangeYIELD     0.6335      0.159      3.978      0.000       0.318       0.949\n==============================================================================\nOmnibus:                        1.076   Durbin-Watson:                   2.415\nProb(Omnibus):                  0.584   Jarque-Bera (JB):                0.956\nSkew:                          -0.218   Prob(JB):                        0.620\nKurtosis:                       2.960   Cond. No.                         32.9\n==============================================================================\n\nNotes:\n[1] Standard Errors assume that the covariance matrix of the errors is correctly specified.\n"
                }
            ],
            "source": "print(pred.summary())"
        },
        {
            "cell_type": "code",
            "execution_count": null,
            "id": "bea6a963",
            "metadata": {},
            "outputs": [],
            "source": ""
        }
    ],
    "metadata": {
        "kernelspec": {
            "display_name": "Python 3",
            "language": "python",
            "name": "python3"
        },
        "language_info": {
            "codemirror_mode": {
                "name": "ipython",
                "version": 3
            },
            "file_extension": ".py",
            "mimetype": "text/x-python",
            "name": "python",
            "nbconvert_exporter": "python",
            "pygments_lexer": "ipython3",
            "version": "3.8.8"
        }
    },
    "nbformat": 4,
    "nbformat_minor": 5
}